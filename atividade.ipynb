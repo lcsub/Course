{
 "cells": [
  {
   "cell_type": "markdown",
   "id": "a4d617f7",
   "metadata": {},
   "source": [
    "### 2 - title of the notebook"
   ]
  },
  {
   "cell_type": "markdown",
   "id": "395f559b",
   "metadata": {},
   "source": [
    "# Example, exercise"
   ]
  },
  {
   "cell_type": "markdown",
   "id": "c73a627c",
   "metadata": {},
   "source": [
    "### 3 - create a cell for a introduction"
   ]
  },
  {
   "cell_type": "markdown",
   "id": "db3dbaba",
   "metadata": {},
   "source": [
    "## Example for an introduction"
   ]
  },
  {
   "cell_type": "markdown",
   "id": "efd87d4a",
   "metadata": {},
   "source": [
    "### 4 - list data science languages"
   ]
  },
  {
   "cell_type": "markdown",
   "id": "b8f52656",
   "metadata": {},
   "source": [
    "Python, R, SQL, Javascript, Scala"
   ]
  },
  {
   "cell_type": "markdown",
   "id": "eb762386",
   "metadata": {},
   "source": [
    "### 5 - list data science libraries"
   ]
  },
  {
   "cell_type": "markdown",
   "id": "177e56a1",
   "metadata": {},
   "source": [
    "Tensorflow, Pandas, ScyPi, NumPy, Matplotlib"
   ]
  },
  {
   "cell_type": "markdown",
   "id": "542ab464",
   "metadata": {},
   "source": [
    "### 6 - table of data science tools"
   ]
  },
  {
   "cell_type": "markdown",
   "id": "65abadd2",
   "metadata": {},
   "source": [
    "| Data Science Tools |\n",
    "|--------------------|\n",
    "| Jupyter Lab        |\n",
    "| R Studio           |\n",
    "| Github             |\n",
    "| Watson Studio      |\n",
    "| Apache Spark       |\n",
    "| SAS                |\n",
    "| TensorFlow         |"
   ]
  },
  {
   "cell_type": "markdown",
   "id": "e5d455fe",
   "metadata": {},
   "source": [
    "### 7 - markdown cell introducing arythmetical examples"
   ]
  },
  {
   "cell_type": "markdown",
   "id": "ccecc819",
   "metadata": {},
   "source": [
    "a = 3 + 2     \n",
    "b = 4 + 2 * 3"
   ]
  },
  {
   "cell_type": "markdown",
   "id": "4e38d1be",
   "metadata": {},
   "source": [
    "### 8 - code cell to multiply and add numbers"
   ]
  },
  {
   "cell_type": "code",
   "execution_count": 8,
   "id": "7d2bc852",
   "metadata": {},
   "outputs": [
    {
     "name": "stdout",
     "output_type": "stream",
     "text": [
      "160\n"
     ]
    }
   ],
   "source": [
    "x = 5 * 1 * 8 * 4\n",
    "print(x)"
   ]
  },
  {
   "cell_type": "markdown",
   "id": "90aa2c0b",
   "metadata": {},
   "source": [
    "### 9 - code cell to convert minutes to hours"
   ]
  },
  {
   "cell_type": "code",
   "execution_count": 14,
   "id": "44a1240a",
   "metadata": {
    "scrolled": true
   },
   "outputs": [
    {
     "name": "stdout",
     "output_type": "stream",
     "text": [
      "60.0 h\n"
     ]
    }
   ],
   "source": [
    "# 1h is 60m\n",
    "x = 3600 / 60\n",
    "print(x,'h')"
   ]
  },
  {
   "cell_type": "markdown",
   "id": "0e76f4e8",
   "metadata": {},
   "source": [
    "### 10 - insert a markdown cell to list objectives"
   ]
  },
  {
   "cell_type": "markdown",
   "id": "c56eddf6",
   "metadata": {},
   "source": [
    "- learn about data science tools    \n",
    "- know about languages for data science    \n",
    "- libraries required and useful for data science    "
   ]
  },
  {
   "cell_type": "markdown",
   "id": "e632c7b7",
   "metadata": {},
   "source": [
    "### 11 - create a markdown cell to indicate the Author's name"
   ]
  },
  {
   "cell_type": "markdown",
   "id": "cf0851a4",
   "metadata": {},
   "source": [
    "## Lucas Uberti"
   ]
  },
  {
   "cell_type": "code",
   "execution_count": null,
   "id": "1e9ef54a",
   "metadata": {},
   "outputs": [],
   "source": []
  }
 ],
 "metadata": {
  "kernelspec": {
   "display_name": "Python 3 (ipykernel)",
   "language": "python",
   "name": "python3"
  },
  "language_info": {
   "codemirror_mode": {
    "name": "ipython",
    "version": 3
   },
   "file_extension": ".py",
   "mimetype": "text/x-python",
   "name": "python",
   "nbconvert_exporter": "python",
   "pygments_lexer": "ipython3",
   "version": "3.9.2"
  }
 },
 "nbformat": 4,
 "nbformat_minor": 5
}
